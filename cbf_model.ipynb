{
 "cells": [
  {
   "cell_type": "code",
   "execution_count": 1,
   "metadata": {},
   "outputs": [],
   "source": [
    "import pandas as pd\n",
    "\n",
    "from collections import defaultdict\n",
    "from sklearn.preprocessing import StandardScaler\n",
    "from sklearn.model_selection import train_test_split\n",
    "from sklearn.linear_model import LogisticRegression\n",
    "from sklearn.metrics import confusion_matrix, ConfusionMatrixDisplay\n",
    "\n",
    "import numpy as np\n",
    "import matplotlib.pyplot as plt\n",
    "\n",
    "import ast"
   ]
  },
  {
   "cell_type": "code",
   "execution_count": 2,
   "metadata": {},
   "outputs": [],
   "source": [
    "\n",
    "df_made_train = pd.read_csv(\"datasets/recipes_made_train.csv\")\n",
    "df_made_test = pd.read_csv(\"datasets/recipes_made_test.csv\")\n",
    "df_made_val = pd.read_csv(\"datasets/recipes_made_val.csv\")\n",
    "df_raw_interactions = pd.read_csv(\"datasets/RAW_interactions.csv\")\n",
    "df_raw_recipes = pd.read_csv(\"datasets/RAW_recipes.csv\")\n",
    "df_pp_users = pd.read_csv(\"datasets/PP_users.csv\")\n",
    "df_pp_recipes = pd.read_csv(\"datasets/PP_recipes.csv\")\n",
    "df_train = pd.read_csv(\"datasets/interactions_train.csv\")\n",
    "df_test = pd.read_csv(\"datasets/interactions_test.csv\")\n",
    "df_val = pd.read_csv(\"datasets/interactions_validation.csv\")\n",
    "df_ingr_map = pd.read_csv(\"datasets/ingr_map.csv\")"
   ]
  },
  {
   "cell_type": "code",
   "execution_count": 3,
   "metadata": {},
   "outputs": [],
   "source": [
    "# Cleaning raw recipe to remove recipes that take longer than 1 day, have more than 25 steps, and more than 40 ingredients\n",
    "df_rr_clean = df_raw_recipes[df_raw_recipes['minutes'] <= 1440]\n",
    "df_rr_clean = df_rr_clean[df_rr_clean['n_ingredients'] <= 25]\n",
    "df_rr_clean = df_rr_clean[df_rr_clean['n_steps'] <= 40]\n",
    "\n",
    "# Dropping date, u, and i columns\n",
    "df_train_clean = df_train.drop([\"date\", \"u\", \"i\"], axis=1)\n",
    "df_test_clean = df_test.drop([\"date\", \"u\", \"i\"], axis=1)\n",
    "df_val_clean = df_val.drop([\"date\", \"u\", \"i\"], axis=1)\n",
    "\n",
    "# Removing any recipes that were removed from cleaning the raw recipes\n",
    "df_train_clean = df_train_clean[df_train_clean['recipe_id'].isin(df_rr_clean['id'])]\n",
    "df_test_clean = df_test_clean[df_test_clean['recipe_id'].isin(df_rr_clean['id'])]\n",
    "df_val_clean = df_val_clean[df_val_clean['recipe_id'].isin(df_rr_clean['id'])]\n",
    "\n",
    "# Removing any recipes that were removed from cleaning the raw recipes\n",
    "df_made_train = df_made_train[df_made_train['recipe_id'].isin(df_rr_clean['id'])]\n",
    "df_made_test = df_made_test[df_made_test['recipe_id'].isin(df_rr_clean['id'])]\n",
    "df_made_val = df_made_val[df_made_val['recipe_id'].isin(df_rr_clean['id'])]\n"
   ]
  },
  {
   "cell_type": "code",
   "execution_count": 4,
   "metadata": {},
   "outputs": [],
   "source": [
    "# Normalize content-based features\n",
    "scaler = StandardScaler()\n",
    "df_rr_clean['min_normalized'] = scaler.fit_transform(df_rr_clean[['minutes']])\n",
    "df_rr_clean['n_steps_normalized'] = scaler.fit_transform(df_rr_clean[['n_steps']])\n",
    "df_rr_clean['n_ingr_normalized'] = scaler.fit_transform(df_rr_clean[['n_ingredients']])\n",
    "\n",
    "# Convert nutrition strings into a list\n",
    "df_rr_clean['nutrition'] = df_rr_clean['nutrition'].apply(ast.literal_eval)\n",
    "    "
   ]
  },
  {
   "cell_type": "code",
   "execution_count": 5,
   "metadata": {},
   "outputs": [],
   "source": [
    "def convToMap(data, value_cols):\n",
    "    if isinstance(value_cols, str):\n",
    "        value_cols = [value_cols]\n",
    "\n",
    "    for col in ['id'] + value_cols:\n",
    "        if col not in data.columns:\n",
    "            raise ValueError(f\"Column '{col}' not found in the DataFrame.\")\n",
    "    \n",
    "    if(len(value_cols) == 1):\n",
    "        value_map_1 = defaultdict(set)\n",
    "        for _, row in data.iterrows():\n",
    "            value_map_1[row['id']].add(row[value_cols[0]])\n",
    "        return value_map_1\n",
    "    else:\n",
    "        value_map_mult = defaultdict(list)\n",
    "        for _, row in data.iterrows():\n",
    "            for col in value_cols:\n",
    "                value_map_mult[row['id']].append(row[col])\n",
    "        return value_map_mult"
   ]
  },
  {
   "cell_type": "code",
   "execution_count": 6,
   "metadata": {},
   "outputs": [],
   "source": [
    "id_to_recipe = convToMap(df_rr_clean, [\"min_normalized\", \"nutrition\", \"n_steps_normalized\", \"n_ingr_normalized\"])"
   ]
  },
  {
   "cell_type": "code",
   "execution_count": 7,
   "metadata": {},
   "outputs": [],
   "source": [
    "\n",
    "train = defaultdict(list)\n",
    "for _, data in df_made_train.iterrows():\n",
    "    recipe = id_to_recipe[data.iloc[1]]\n",
    "    train['user_id'].append(data.iloc[0])\n",
    "    train['min_normalized'].append(recipe[0])\n",
    "    train['calories'].append(recipe[1][0])\n",
    "    train['total_fat'].append(recipe[1][1])\n",
    "    train['sugar'].append(recipe[1][2])\n",
    "    train['sodium'].append(recipe[1][3])\n",
    "    train['protein'].append(recipe[1][4])\n",
    "    train['saturated_fat'].append(recipe[1][5])\n",
    "    train['carbohydrates'].append(recipe[1][6])\n",
    "    train['n_steps_normalized'].append(recipe[2])\n",
    "    train['n_ingr_normalized'].append(recipe[3])\n",
    "\n",
    "X = pd.DataFrame(train)"
   ]
  },
  {
   "cell_type": "code",
   "execution_count": 8,
   "metadata": {},
   "outputs": [],
   "source": [
    "from sklearn.metrics.pairwise import cosine_similarity\n",
    "\n",
    "# Create an item-feature matrix (e.g., ingredients, macros, time)\n",
    "item_feature_matrix = X.iloc[:10000, 1:].values  # Exclude 'recipeID'\n",
    "\n",
    "# Compute similarity between items\n",
    "item_similarity = cosine_similarity(item_feature_matrix)"
   ]
  },
  {
   "cell_type": "code",
   "execution_count": 9,
   "metadata": {},
   "outputs": [],
   "source": [
    "# Rank items similar to the recipes a user has made\n",
    "userSet = set()\n",
    "X_sub = X.iloc[:10000]\n",
    "train_sub = df_train_clean.iloc[:10000]\n",
    "for u in X_sub['user_id']:\n",
    "    userSet.add(u)\n",
    "\n",
    "train_sub.reset_index(drop=True, inplace=True)\n",
    "userRecipeRanked = {}\n",
    "for u in userSet:\n",
    "    user_made_recipes = train_sub[train_sub['user_id'] == u]['recipe_id']\n",
    "    similar_items = []\n",
    "    for idx in user_made_recipes:\n",
    "        similar_items.append(item_similarity[train_sub.index[train_sub['recipe_id'] == idx]])\n",
    "    similar_items = item_similarity.mean(axis=0)\n",
    "    ranked_items = np.argsort(-similar_items)\n",
    "    userRecipeRanked[u] = ranked_items"
   ]
  },
  {
   "cell_type": "code",
   "execution_count": 25,
   "metadata": {},
   "outputs": [],
   "source": [
    "correct = 0\n",
    "usersKnown = 0\n",
    "for _, data in df_made_train.iterrows():\n",
    "    pred = 0\n",
    "    u = data['user_id']\n",
    "    r = data['recipe_id']\n",
    "    if u in list(userRecipeRanked.keys()):\n",
    "        ranked_rec = userRecipeRanked[data['user_id']]\n",
    "        if r in ranked_rec:\n",
    "            pred = 1\n",
    "        usersKnown+=1\n",
    "    made = int(data['made'])\n",
    "    if(pred == made): correct+=1"
   ]
  },
  {
   "cell_type": "code",
   "execution_count": 26,
   "metadata": {},
   "outputs": [
    {
     "data": {
      "text/plain": [
       "0.5017252001577654"
      ]
     },
     "execution_count": 26,
     "metadata": {},
     "output_type": "execute_result"
    }
   ],
   "source": [
    "correct/len(df_made_train)"
   ]
  },
  {
   "cell_type": "code",
   "execution_count": 23,
   "metadata": {},
   "outputs": [],
   "source": [
    "correct = 0\n",
    "usersKnown = 0\n",
    "for _, data in df_made_test.iterrows():\n",
    "    pred = 0\n",
    "    u = data['user_id']\n",
    "    r = data['recipe_id']\n",
    "    if u in list(userRecipeRanked.keys()):\n",
    "        ranked_rec = userRecipeRanked[data['user_id']]\n",
    "        if r in ranked_rec:\n",
    "            pred = 1\n",
    "        usersKnown+=1\n",
    "    made = int(data['made'])\n",
    "    if(pred == made): correct+=1\n"
   ]
  },
  {
   "cell_type": "code",
   "execution_count": 24,
   "metadata": {},
   "outputs": [
    {
     "data": {
      "text/plain": [
       "0.5022267206477733"
      ]
     },
     "execution_count": 24,
     "metadata": {},
     "output_type": "execute_result"
    }
   ],
   "source": [
    "correct/len(df_made_test)"
   ]
  },
  {
   "cell_type": "code",
   "execution_count": 12,
   "metadata": {},
   "outputs": [
    {
     "data": {
      "text/plain": [
       "1274"
      ]
     },
     "execution_count": 12,
     "metadata": {},
     "output_type": "execute_result"
    }
   ],
   "source": [
    "usersKnown"
   ]
  }
 ],
 "metadata": {
  "kernelspec": {
   "display_name": "Python 3",
   "language": "python",
   "name": "python3"
  },
  "language_info": {
   "codemirror_mode": {
    "name": "ipython",
    "version": 3
   },
   "file_extension": ".py",
   "mimetype": "text/x-python",
   "name": "python",
   "nbconvert_exporter": "python",
   "pygments_lexer": "ipython3",
   "version": "3.12.7"
  }
 },
 "nbformat": 4,
 "nbformat_minor": 2
}
