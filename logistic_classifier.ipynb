{
 "cells": [
  {
   "cell_type": "code",
   "execution_count": 45,
   "metadata": {},
   "outputs": [],
   "source": [
    "import pandas as pd\n",
    "\n",
    "from collections import defaultdict\n",
    "from sklearn.preprocessing import StandardScaler\n",
    "from sklearn.model_selection import train_test_split\n",
    "from sklearn.linear_model import LogisticRegression\n",
    "from sklearn.metrics import confusion_matrix, ConfusionMatrixDisplay\n",
    "\n",
    "import numpy as np\n",
    "import matplotlib.pyplot as plt\n",
    "\n",
    "import ast\n"
   ]
  },
  {
   "cell_type": "code",
   "execution_count": 12,
   "metadata": {},
   "outputs": [],
   "source": [
    "\n",
    "df_made_train = pd.read_csv(\"datasets/recipes_made_train.csv\")\n",
    "df_made_test = pd.read_csv(\"datasets/recipes_made_test.csv\")\n",
    "df_made_val = pd.read_csv(\"datasets/recipes_made_val.csv\")\n",
    "df_raw_interactions = pd.read_csv(\"datasets/RAW_interactions.csv\")\n",
    "df_raw_recipes = pd.read_csv(\"datasets/RAW_recipes.csv\")\n",
    "df_pp_users = pd.read_csv(\"datasets/PP_users.csv\")\n",
    "df_pp_recipes = pd.read_csv(\"datasets/PP_recipes.csv\")\n",
    "df_train = pd.read_csv(\"datasets/interactions_train.csv\")\n",
    "df_test = pd.read_csv(\"datasets/interactions_test.csv\")\n",
    "df_val = pd.read_csv(\"datasets/interactions_validation.csv\")\n",
    "df_ingr_map = pd.read_csv(\"datasets/ingr_map.csv\")"
   ]
  },
  {
   "cell_type": "code",
   "execution_count": 33,
   "metadata": {},
   "outputs": [],
   "source": [
    "# Cleaning raw recipe to remove recipes that take longer than 1 day, have more than 25 steps, and more than 40 ingredients\n",
    "df_rr_clean = df_raw_recipes[df_raw_recipes['minutes'] <= 1440]\n",
    "df_rr_clean = df_rr_clean[df_rr_clean['n_ingredients'] <= 25]\n",
    "df_rr_clean = df_rr_clean[df_rr_clean['n_steps'] <= 40]\n",
    "\n",
    "# Dropping date, u, and i columns\n",
    "df_train_clean = df_train.drop([\"date\", \"u\", \"i\"], axis=1)\n",
    "df_test_clean = df_test.drop([\"date\", \"u\", \"i\"], axis=1)\n",
    "df_val_clean = df_val.drop([\"date\", \"u\", \"i\"], axis=1)\n",
    "\n",
    "# Removing any recipes that were removed from cleaning the raw recipes\n",
    "df_train_clean = df_train_clean[df_train_clean['recipe_id'].isin(df_rr_clean['id'])]\n",
    "df_test_clean = df_test_clean[df_test_clean['recipe_id'].isin(df_rr_clean['id'])]\n",
    "df_val_clean = df_val_clean[df_val_clean['recipe_id'].isin(df_rr_clean['id'])]\n",
    "\n",
    "# Removing any recipes that were removed from cleaning the raw recipes\n",
    "df_made_train = df_made_train[df_made_train['recipe_id'].isin(df_rr_clean['id'])]\n",
    "df_made_test = df_made_test[df_made_test['recipe_id'].isin(df_rr_clean['id'])]\n",
    "df_made_val = df_made_val[df_made_val['recipe_id'].isin(df_rr_clean['id'])]\n"
   ]
  },
  {
   "cell_type": "code",
   "execution_count": 16,
   "metadata": {},
   "outputs": [],
   "source": [
    "# Normalize content-based features\n",
    "scaler = StandardScaler()\n",
    "df_rr_clean['min_normalized'] = scaler.fit_transform(df_rr_clean[['minutes']])\n",
    "df_rr_clean['n_steps_normalized'] = scaler.fit_transform(df_rr_clean[['n_steps']])\n",
    "df_rr_clean['n_ingr_normalized'] = scaler.fit_transform(df_rr_clean[['n_ingredients']])\n",
    "\n",
    "# Convert nutrition strings into a list\n",
    "df_rr_clean['nutrition'] = df_rr_clean['nutrition'].apply(ast.literal_eval)\n",
    "    "
   ]
  },
  {
   "cell_type": "code",
   "execution_count": 17,
   "metadata": {},
   "outputs": [],
   "source": [
    "def convToMap(data, value_cols):\n",
    "    if isinstance(value_cols, str):\n",
    "        value_cols = [value_cols]\n",
    "\n",
    "    for col in ['id'] + value_cols:\n",
    "        if col not in data.columns:\n",
    "            raise ValueError(f\"Column '{col}' not found in the DataFrame.\")\n",
    "    \n",
    "    if(len(value_cols) == 1):\n",
    "        value_map_1 = defaultdict(set)\n",
    "        for _, row in data.iterrows():\n",
    "            value_map_1[row['id']].add(row[value_cols[0]])\n",
    "        return value_map_1\n",
    "    else:\n",
    "        value_map_mult = defaultdict(list)\n",
    "        for _, row in data.iterrows():\n",
    "            for col in value_cols:\n",
    "                value_map_mult[row['id']].append(row[col])\n",
    "        return value_map_mult"
   ]
  },
  {
   "cell_type": "code",
   "execution_count": 18,
   "metadata": {},
   "outputs": [],
   "source": [
    "id_to_recipe = convToMap(df_rr_clean, [\"min_normalized\", \"nutrition\", \"n_steps_normalized\", \"n_ingr_normalized\"])"
   ]
  },
  {
   "cell_type": "code",
   "execution_count": 23,
   "metadata": {},
   "outputs": [
    {
     "data": {
      "text/plain": [
       "[0.10526539445755662,\n",
       " [487.8, 16.0, 283.0, 13.0, 52.0, 20.0, 26.0],\n",
       " -0.6489417598417637,\n",
       " 0.26693693060092955]"
      ]
     },
     "execution_count": 23,
     "metadata": {},
     "output_type": "execute_result"
    }
   ],
   "source": [
    "id_to_recipe[4684.0]"
   ]
  },
  {
   "cell_type": "code",
   "execution_count": 34,
   "metadata": {},
   "outputs": [],
   "source": [
    "\n",
    "train = defaultdict(list)\n",
    "for _, data in df_made_train.iterrows():\n",
    "    recipe = id_to_recipe[data.iloc[1]]\n",
    "    train['user_id'].append(data.iloc[0])\n",
    "    train['min_normalized'].append(recipe[0])\n",
    "    train['calories'].append(recipe[1][0])\n",
    "    train['total_fat'].append(recipe[1][1])\n",
    "    train['sugar'].append(recipe[1][2])\n",
    "    train['sodium'].append(recipe[1][3])\n",
    "    train['protein'].append(recipe[1][4])\n",
    "    train['saturated_fat'].append(recipe[1][5])\n",
    "    train['carbohydrates'].append(recipe[1][6])\n",
    "    train['n_steps_normalized'].append(recipe[2])\n",
    "    train['n_ingr_normalized'].append(recipe[3])\n",
    "\n",
    "X = pd.DataFrame(train)\n",
    "\n",
    "    \n"
   ]
  },
  {
   "cell_type": "code",
   "execution_count": 35,
   "metadata": {},
   "outputs": [
    {
     "data": {
      "text/html": [
       "<div>\n",
       "<style scoped>\n",
       "    .dataframe tbody tr th:only-of-type {\n",
       "        vertical-align: middle;\n",
       "    }\n",
       "\n",
       "    .dataframe tbody tr th {\n",
       "        vertical-align: top;\n",
       "    }\n",
       "\n",
       "    .dataframe thead th {\n",
       "        text-align: right;\n",
       "    }\n",
       "</style>\n",
       "<table border=\"1\" class=\"dataframe\">\n",
       "  <thead>\n",
       "    <tr style=\"text-align: right;\">\n",
       "      <th></th>\n",
       "      <th>user_id</th>\n",
       "      <th>min_normalized</th>\n",
       "      <th>calories</th>\n",
       "      <th>total_fat</th>\n",
       "      <th>sugar</th>\n",
       "      <th>sodium</th>\n",
       "      <th>protein</th>\n",
       "      <th>saturated_fat</th>\n",
       "      <th>carbohydrates</th>\n",
       "      <th>n_steps_normalized</th>\n",
       "      <th>n_ingr_normalized</th>\n",
       "    </tr>\n",
       "  </thead>\n",
       "  <tbody>\n",
       "    <tr>\n",
       "      <th>0</th>\n",
       "      <td>2046</td>\n",
       "      <td>0.105265</td>\n",
       "      <td>487.8</td>\n",
       "      <td>16.0</td>\n",
       "      <td>283.0</td>\n",
       "      <td>13.0</td>\n",
       "      <td>52.0</td>\n",
       "      <td>20.0</td>\n",
       "      <td>26.0</td>\n",
       "      <td>-0.648942</td>\n",
       "      <td>0.266937</td>\n",
       "    </tr>\n",
       "    <tr>\n",
       "      <th>1</th>\n",
       "      <td>2046</td>\n",
       "      <td>0.843935</td>\n",
       "      <td>368.4</td>\n",
       "      <td>33.0</td>\n",
       "      <td>15.0</td>\n",
       "      <td>35.0</td>\n",
       "      <td>55.0</td>\n",
       "      <td>44.0</td>\n",
       "      <td>5.0</td>\n",
       "      <td>0.955425</td>\n",
       "      <td>2.993820</td>\n",
       "    </tr>\n",
       "    <tr>\n",
       "      <th>2</th>\n",
       "      <td>1773</td>\n",
       "      <td>2.101671</td>\n",
       "      <td>756.6</td>\n",
       "      <td>68.0</td>\n",
       "      <td>47.0</td>\n",
       "      <td>115.0</td>\n",
       "      <td>93.0</td>\n",
       "      <td>72.0</td>\n",
       "      <td>13.0</td>\n",
       "      <td>1.668477</td>\n",
       "      <td>1.903067</td>\n",
       "    </tr>\n",
       "    <tr>\n",
       "      <th>3</th>\n",
       "      <td>1773</td>\n",
       "      <td>0.604367</td>\n",
       "      <td>163.2</td>\n",
       "      <td>12.0</td>\n",
       "      <td>2.0</td>\n",
       "      <td>11.0</td>\n",
       "      <td>7.0</td>\n",
       "      <td>22.0</td>\n",
       "      <td>5.0</td>\n",
       "      <td>1.490214</td>\n",
       "      <td>-0.278440</td>\n",
       "    </tr>\n",
       "    <tr>\n",
       "      <th>4</th>\n",
       "      <td>2046</td>\n",
       "      <td>-0.643387</td>\n",
       "      <td>525.6</td>\n",
       "      <td>69.0</td>\n",
       "      <td>42.0</td>\n",
       "      <td>6.0</td>\n",
       "      <td>8.0</td>\n",
       "      <td>74.0</td>\n",
       "      <td>10.0</td>\n",
       "      <td>0.420636</td>\n",
       "      <td>-0.823816</td>\n",
       "    </tr>\n",
       "  </tbody>\n",
       "</table>\n",
       "</div>"
      ],
      "text/plain": [
       "   user_id  min_normalized  calories  total_fat  sugar  sodium  protein  \\\n",
       "0     2046        0.105265     487.8       16.0  283.0    13.0     52.0   \n",
       "1     2046        0.843935     368.4       33.0   15.0    35.0     55.0   \n",
       "2     1773        2.101671     756.6       68.0   47.0   115.0     93.0   \n",
       "3     1773        0.604367     163.2       12.0    2.0    11.0      7.0   \n",
       "4     2046       -0.643387     525.6       69.0   42.0     6.0      8.0   \n",
       "\n",
       "   saturated_fat  carbohydrates  n_steps_normalized  n_ingr_normalized  \n",
       "0           20.0           26.0           -0.648942           0.266937  \n",
       "1           44.0            5.0            0.955425           2.993820  \n",
       "2           72.0           13.0            1.668477           1.903067  \n",
       "3           22.0            5.0            1.490214          -0.278440  \n",
       "4           74.0           10.0            0.420636          -0.823816  "
      ]
     },
     "execution_count": 35,
     "metadata": {},
     "output_type": "execute_result"
    }
   ],
   "source": [
    "X.head()"
   ]
  },
  {
   "cell_type": "code",
   "execution_count": 36,
   "metadata": {},
   "outputs": [
    {
     "data": {
      "text/plain": [
       "1389404"
      ]
     },
     "execution_count": 36,
     "metadata": {},
     "output_type": "execute_result"
    }
   ],
   "source": [
    "len(X)"
   ]
  },
  {
   "cell_type": "code",
   "execution_count": 37,
   "metadata": {},
   "outputs": [
    {
     "data": {
      "text/plain": [
       "1389404"
      ]
     },
     "execution_count": 37,
     "metadata": {},
     "output_type": "execute_result"
    }
   ],
   "source": [
    "len(df_made_train['made'])"
   ]
  },
  {
   "cell_type": "code",
   "execution_count": 39,
   "metadata": {},
   "outputs": [],
   "source": [
    "y = df_made_train['made']"
   ]
  },
  {
   "cell_type": "code",
   "execution_count": 40,
   "metadata": {},
   "outputs": [],
   "source": [
    "X_train, X_test, y_train, y_test = train_test_split(X, y, test_size=0.2, shuffle=True, random_state=42)"
   ]
  },
  {
   "cell_type": "code",
   "execution_count": 41,
   "metadata": {},
   "outputs": [
    {
     "data": {
      "text/plain": [
       "0.5005703880438029"
      ]
     },
     "execution_count": 41,
     "metadata": {},
     "output_type": "execute_result"
    }
   ],
   "source": [
    "model = LogisticRegression()\n",
    "model.fit(X_train, y_train)\n",
    "model.score(X_test, y_test)"
   ]
  },
  {
   "cell_type": "code",
   "execution_count": null,
   "metadata": {},
   "outputs": [
    {
     "data": {
      "image/png": "[encoded data removed]",
      "text/plain": [
       "<Figure size 640x480 with 2 Axes>"
      ]
     },
     "metadata": {},
     "output_type": "display_data"
    }
   ],
   "source": [
    "y_pred = model.predict(X_test)\n",
    "cm = confusion_matrix(y_test, y_pred, labels=model.classes_)\n",
    "disp = ConfusionMatrixDisplay(confusion_matrix=cm, display_labels=model.classes_)\n",
    "disp.plot()\n",
    "plt.show()\n"
   ]
  }
 ],
 "metadata": {
  "kernelspec": {
   "display_name": "Python 3",
   "language": "python",
   "name": "python3"
  },
  "language_info": {
   "codemirror_mode": {
    "name": "ipython",
    "version": 3
   },
   "file_extension": ".py",
   "mimetype": "text/x-python",
   "name": "python",
   "nbconvert_exporter": "python",
   "pygments_lexer": "ipython3",
   "version": "3.12.7"
  }
 },
 "nbformat": 4,
 "nbformat_minor": 2
}
