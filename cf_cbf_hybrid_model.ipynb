{
 "cells": [
  {
   "cell_type": "code",
   "execution_count": null,
   "metadata": {},
   "outputs": [],
   "source": [
    "import pandas as pd\n",
    "\n",
    "from collections import defaultdict\n",
    "\n",
    "import numpy as np\n",
    "\n",
    "from sklearn.model_selection import train_test_split\n",
    "from sklearn.metrics.pairwise import cosine_similarity\n",
    "from sklearn.preprocessing import StandardScaler\n",
    "from scipy.sparse.linalg import svds\n",
    "\n",
    "import matplotlib.pyplot as plt\n",
    "\n",
    "import ast\n"
   ]
  },
  {
   "cell_type": "code",
   "execution_count": null,
   "metadata": {},
   "outputs": [],
   "source": [
    "\n",
    "df_made_train = pd.read_csv(\"datasets/recipes_made_train.csv\")\n",
    "df_made_test = pd.read_csv(\"datasets/recipes_made_test.csv\")\n",
    "df_made_val = pd.read_csv(\"datasets/recipes_made_val.csv\")\n",
    "df_raw_interactions = pd.read_csv(\"datasets/RAW_interactions.csv\")\n",
    "df_raw_recipes = pd.read_csv(\"datasets/RAW_recipes.csv\")\n",
    "df_pp_users = pd.read_csv(\"datasets/PP_users.csv\")\n",
    "df_pp_recipes = pd.read_csv(\"datasets/PP_recipes.csv\")\n",
    "df_train = pd.read_csv(\"datasets/interactions_train.csv\")\n",
    "df_test = pd.read_csv(\"datasets/interactions_test.csv\")\n",
    "df_val = pd.read_csv(\"datasets/interactions_validation.csv\")\n",
    "df_ingr_map = pd.read_csv(\"datasets/ingr_map.csv\")"
   ]
  },
  {
   "cell_type": "code",
   "execution_count": null,
   "metadata": {},
   "outputs": [],
   "source": [
    "# Cleaning raw recipe to remove recipes that take longer than 1 day, have more than 25 steps, and more than 40 ingredients\n",
    "df_rr_clean = df_raw_recipes[df_raw_recipes['minutes'] <= 1440]\n",
    "df_rr_clean = df_rr_clean[df_rr_clean['n_ingredients'] <= 25]\n",
    "df_rr_clean = df_rr_clean[df_rr_clean['n_steps'] <= 40]\n",
    "\n",
    "# Dropping date, u, and i columns\n",
    "df_train_clean = df_train.drop([\"date\", \"u\", \"i\"], axis=1)\n",
    "df_test_clean = df_test.drop([\"date\", \"u\", \"i\"], axis=1)\n",
    "df_val_clean = df_val.drop([\"date\", \"u\", \"i\"], axis=1)\n",
    "\n",
    "# Removing any recipes that were removed from cleaning the raw recipes\n",
    "df_train_clean = df_train_clean[df_train_clean['recipe_id'].isin(df_rr_clean['id'])]\n",
    "df_test_clean = df_test_clean[df_test_clean['recipe_id'].isin(df_rr_clean['id'])]\n",
    "df_val_clean = df_val_clean[df_val_clean['recipe_id'].isin(df_rr_clean['id'])]\n"
   ]
  },
  {
   "cell_type": "code",
   "execution_count": null,
   "metadata": {},
   "outputs": [],
   "source": [
    "\n",
    "df_train_sub = df_train_clean.iloc[:int(len(df_train_clean)/8), :]"
   ]
  },
  {
   "cell_type": "code",
   "execution_count": null,
   "metadata": {},
   "outputs": [],
   "source": [
    "df_train_sub"
   ]
  },
  {
   "cell_type": "code",
   "execution_count": null,
   "metadata": {},
   "outputs": [],
   "source": [
    "\n",
    "\n",
    "# Create utility matrix\n",
    "utility_matrix = df_train_sub.pivot(index='user_id', columns='recipe_id', values='rating').fillna(0)\n",
    "\n",
    "# Perform Singular Value Decomposition\n",
    "U, sigma, Vt = svds(utility_matrix, k=50)  # k is the number of latent features\n",
    "sigma = np.diag(sigma)\n",
    "\n",
    "# Compute user and recipe latent feature matrices\n",
    "user_features = np.dot(U, sigma)  # User latent feature matrix\n",
    "recipe_features_cf = np.dot(sigma, Vt).T  # Recipe latent feature matrix (from CF)\n"
   ]
  },
  {
   "cell_type": "code",
   "execution_count": null,
   "metadata": {},
   "outputs": [],
   "source": [
    "utility_matrix[2046]"
   ]
  },
  {
   "cell_type": "code",
   "execution_count": null,
   "metadata": {},
   "outputs": [],
   "source": [
    "# Normalize content-based features (time as an example numerical feature)\n",
    "scaler = StandardScaler()\n",
    "df_raw_recipes['min_normalized'] = scaler.fit_transform(df_raw_recipes[['minutes']])\n",
    "df_raw_recipes['n_steps_normalized'] = scaler.fit_transform(df_raw_recipes[['n_steps']])\n",
    "df_raw_recipes['n_ingr_normalized'] = scaler.fit_transform(df_raw_recipes[['n_ingredients']])\n",
    "\n",
    "# Convert nutrition strings into a list\n",
    "df_raw_recipes['nutrition'] = df_raw_recipes.apply(ast.literal_eval)\n",
    "    \n",
    "\n",
    "# Merge recipe IDs for consistent indexing\n",
    "recipe_features_cb = df_raw_recipes[['id', 'minutes', 'nutrition', 'n_steps', 'n_ingredients']]\n",
    "\n"
   ]
  },
  {
   "cell_type": "code",
   "execution_count": null,
   "metadata": {},
   "outputs": [],
   "source": [
    "\n",
    "\n",
    "# Align CF features with the recipe IDs\n",
    "cf_features_df = pd.DataFrame(recipe_features_cf, index=utility_matrix.columns, columns=[f'CF_Feature_{i}' for i in range(recipe_features_cf.shape[1])])\n",
    "cf_features_df.reset_index(inplace=True)\n",
    "cf_features_df.rename(columns={'index': 'recipeID'}, inplace=True)\n",
    "\n",
    "# Merge CF and CBF features\n",
    "hybrid_features = pd.merge(cf_features_df, recipe_features_cb, on='recipeID', how='inner')\n",
    "hybrid_features.set_index('recipeID', inplace=True)\n",
    "\n",
    "print(hybrid_features.head())  # Combined CF + CBF feature representation\n"
   ]
  },
  {
   "cell_type": "code",
   "execution_count": null,
   "metadata": {},
   "outputs": [],
   "source": [
    "\n",
    "similarity_matrix = cosine_similarity(hybrid_features)\n",
    "\n",
    "def recommend_recipes(user_id, num_recommendations=5):\n",
    "    # Get the user's rated recipes and ratings\n",
    "    user_rated_recipes = utility_matrix.loc[user_id]\n",
    "    user_rated_recipes = user_rated_recipes[user_rated_recipes > 0]\n",
    "    \n",
    "    # Compute scores for all recipes based on the similarity matrix\n",
    "    recipe_scores = np.dot(user_rated_recipes, similarity_matrix)\n",
    "    \n",
    "    # Rank recipes by score and exclude already-rated recipes\n",
    "    recommended_recipes = pd.DataFrame({\n",
    "        'recipeID': hybrid_features.index,\n",
    "        'score': recipe_scores\n",
    "    }).sort_values(by='score', ascending=False)\n",
    "    recommended_recipes = recommended_recipes[~recommended_recipes['recipeID'].isin(user_rated_recipes.index)]\n",
    "    \n",
    "    return recommended_recipes.head(num_recommendations)\n",
    "\n",
    "# Example: Recommend recipes for user 1\n",
    "recommendations = recommend_recipes(user_id=12200, num_recommendations=3)\n",
    "print(recommendations)\n"
   ]
  }
 ],
 "metadata": {
  "kernelspec": {
   "display_name": "Python 3",
   "language": "python",
   "name": "python3"
  },
  "language_info": {
   "codemirror_mode": {
    "name": "ipython",
    "version": 3
   },
   "file_extension": ".py",
   "mimetype": "text/x-python",
   "name": "python",
   "nbconvert_exporter": "python",
   "pygments_lexer": "ipython3",
   "version": "3.12.7"
  }
 },
 "nbformat": 4,
 "nbformat_minor": 2
}
